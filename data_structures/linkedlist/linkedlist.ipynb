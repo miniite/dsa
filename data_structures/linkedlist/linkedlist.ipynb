{
 "cells": [
  {
   "cell_type": "code",
   "execution_count": 1,
   "id": "04be7309",
   "metadata": {},
   "outputs": [],
   "source": [
    "from singlylinkedlist.singlelinkedlist import LinkedList"
   ]
  },
  {
   "cell_type": "code",
   "execution_count": 2,
   "id": "22539b5d",
   "metadata": {},
   "outputs": [
    {
     "name": "stdout",
     "output_type": "stream",
     "text": [
      "Linked List:\n",
      "0 -> 1 -> 1.5 -> 2 -> 2 -> None\n",
      "Position of 1.5: 2\n",
      "Value at index 2: 1.5\n",
      "After updates:\n",
      "10 -> 1 -> 15 -> 2 -> 20 -> None\n",
      "After deleting first 2:\n",
      "10 -> 1 -> 15 -> 20 -> None\n",
      "Length: 4\n"
     ]
    }
   ],
   "source": [
    "# Example usage\n",
    "if __name__ == \"__main__\":\n",
    "    llist = LinkedList()\n",
    "    \n",
    "    # Insert elements\n",
    "    llist.insert_at_end(1)\n",
    "    llist.insert_at_end(2)\n",
    "    llist.insert_at_end(2)\n",
    "    llist.insert_at_beginning(0)\n",
    "    llist.insert_at_position(1.5, 2)\n",
    "    \n",
    "    # Display the list\n",
    "    print(\"Linked List:\")\n",
    "    llist.display()  # Output: 0 -> 1 -> 1.5 -> 2 -> 2 -> None\n",
    "    \n",
    "    # Search by value\n",
    "    print(\"Position of 1.5:\", llist.search_by_value(1.5))  # Output: 2\n",
    "    \n",
    "    # Search by index\n",
    "    print(\"Value at index 2:\", llist.search_by_index(2))  # Output: 1.5\n",
    "    \n",
    "    # Update values\n",
    "    llist.update_at_beginning(10)\n",
    "    llist.update_at_end(20)\n",
    "    llist.update_at_position(15, 2)\n",
    "    \n",
    "    # Display after updates\n",
    "    print(\"After updates:\")\n",
    "    llist.display()  # Output: 10 -> 1 -> 15 -> 2 -> 20 -> None\n",
    "    \n",
    "    # Delete first occurrence\n",
    "    llist.delete_first_occurrence(2)\n",
    "    \n",
    "    # Display after deletion\n",
    "    print(\"After deleting first 2:\")\n",
    "    llist.display()  # Output: 10 -> 1 -> 15 -> 20 -> None\n",
    "    \n",
    "    # Print length\n",
    "    print(\"Length:\", llist.get_length())  # Output: 4"
   ]
  },
  {
   "cell_type": "code",
   "execution_count": 3,
   "id": "8bbe95ee",
   "metadata": {},
   "outputs": [
    {
     "name": "stdout",
     "output_type": "stream",
     "text": [
      "Linked List 1:\n",
      "1 -> 3 -> 5 -> None\n",
      "Linked List 2:\n",
      "2 -> 4 -> 6 -> None\n",
      "1 -> 2 -> 3 -> 4 -> 5 -> 6 -> None\n"
     ]
    }
   ],
   "source": [
    "# Example usage for two linked lists\n",
    "if __name__ == \"__main__\":\n",
    "    # First linked list\n",
    "    llist1 = LinkedList()\n",
    "    llist1.insert_at_end(1)\n",
    "    llist1.insert_at_end(3)\n",
    "    llist1.insert_at_end(5)\n",
    "\n",
    "    # Second linked list\n",
    "    llist2 = LinkedList()\n",
    "    llist2.insert_at_end(2)\n",
    "    llist2.insert_at_end(4)\n",
    "    llist2.insert_at_end(6)\n",
    "\n",
    "    print(\"Linked List 1:\")\n",
    "    llist1.display()  # Output: 1 -> 3 -> 5 -> None\n",
    "\n",
    "    print(\"Linked List 2:\")\n",
    "    llist2.display()  # Output: 2 -> 4 -> 6 -> None\n",
    "\n",
    "    merged_LList = LinkedList.merge_sorted_lists_iterative(llist1 , llist2)\n",
    "    merged_LList.display()"
   ]
  }
 ],
 "metadata": {
  "kernelspec": {
   "display_name": "Python 3",
   "language": "python",
   "name": "python3"
  },
  "language_info": {
   "codemirror_mode": {
    "name": "ipython",
    "version": 3
   },
   "file_extension": ".py",
   "mimetype": "text/x-python",
   "name": "python",
   "nbconvert_exporter": "python",
   "pygments_lexer": "ipython3",
   "version": "3.10.10"
  }
 },
 "nbformat": 4,
 "nbformat_minor": 5
}
